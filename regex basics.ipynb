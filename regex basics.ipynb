{
 "cells": [
  {
   "cell_type": "code",
   "execution_count": 1,
   "id": "earlier-harbor",
   "metadata": {},
   "outputs": [],
   "source": [
    "import re\n"
   ]
  },
  {
   "cell_type": "code",
   "execution_count": 2,
   "id": "responsible-techno",
   "metadata": {},
   "outputs": [],
   "source": [
    "test_string ='abc1234abc5678ABC'"
   ]
  },
  {
   "cell_type": "code",
   "execution_count": 3,
   "id": "sunset-packaging",
   "metadata": {},
   "outputs": [],
   "source": [
    "pattern = re.compile(r'abc')"
   ]
  },
  {
   "cell_type": "code",
   "execution_count": 4,
   "id": "balanced-administrator",
   "metadata": {},
   "outputs": [],
   "source": [
    "matches =pattern.finditer(test_string)"
   ]
  },
  {
   "cell_type": "code",
   "execution_count": 5,
   "id": "upset-sector",
   "metadata": {},
   "outputs": [],
   "source": [
    "strings = re.finditer(r'abc',test_string) #returns all the matched objects"
   ]
  },
  {
   "cell_type": "code",
   "execution_count": 6,
   "id": "central-particle",
   "metadata": {},
   "outputs": [
    {
     "name": "stdout",
     "output_type": "stream",
     "text": [
      "<re.Match object; span=(0, 3), match='abc'>\n",
      "<re.Match object; span=(7, 10), match='abc'>\n"
     ]
    }
   ],
   "source": [
    "for string in strings:\n",
    "    print(string)"
   ]
  },
  {
   "cell_type": "code",
   "execution_count": 7,
   "id": "intensive-disabled",
   "metadata": {},
   "outputs": [
    {
     "name": "stdout",
     "output_type": "stream",
     "text": [
      "<re.Match object; span=(0, 3), match='abc'>\n",
      "<re.Match object; span=(7, 10), match='abc'>\n"
     ]
    }
   ],
   "source": [
    "for match in matches:\n",
    "    print(match)"
   ]
  },
  {
   "cell_type": "code",
   "execution_count": 8,
   "id": "legislative-bryan",
   "metadata": {},
   "outputs": [
    {
     "data": {
      "text/plain": [
       "callable_iterator"
      ]
     },
     "execution_count": 8,
     "metadata": {},
     "output_type": "execute_result"
    }
   ],
   "source": [
    "type(matches)"
   ]
  },
  {
   "cell_type": "markdown",
   "id": "upset-niagara",
   "metadata": {},
   "source": [
    "### findall()"
   ]
  },
  {
   "cell_type": "code",
   "execution_count": 9,
   "id": "clean-contact",
   "metadata": {},
   "outputs": [],
   "source": [
    "pattern = re.compile(r'abc')"
   ]
  },
  {
   "cell_type": "code",
   "execution_count": 10,
   "id": "fabulous-psychology",
   "metadata": {},
   "outputs": [],
   "source": [
    "matches = pattern.findall(test_string) #returns all the matches in the string"
   ]
  },
  {
   "cell_type": "code",
   "execution_count": 11,
   "id": "nutritional-distributor",
   "metadata": {},
   "outputs": [
    {
     "name": "stdout",
     "output_type": "stream",
     "text": [
      "abc\n",
      "abc\n"
     ]
    }
   ],
   "source": [
    "for match in matches:\n",
    "    print(match)"
   ]
  },
  {
   "cell_type": "markdown",
   "id": "numerous-occurrence",
   "metadata": {},
   "source": [
    "### match()"
   ]
  },
  {
   "cell_type": "code",
   "execution_count": 12,
   "id": "matched-dominant",
   "metadata": {},
   "outputs": [],
   "source": [
    "s='1234abckdj'"
   ]
  },
  {
   "cell_type": "code",
   "execution_count": 13,
   "id": "bulgarian-property",
   "metadata": {},
   "outputs": [],
   "source": [
    "match = re.match(r'abc',s) #matches the pattern at the beginning of the string and if no match is found ,returns none"
   ]
  },
  {
   "cell_type": "code",
   "execution_count": 14,
   "id": "delayed-departure",
   "metadata": {},
   "outputs": [
    {
     "name": "stdout",
     "output_type": "stream",
     "text": [
      "None\n"
     ]
    }
   ],
   "source": [
    "print(match)"
   ]
  },
  {
   "cell_type": "code",
   "execution_count": 15,
   "id": "whole-mount",
   "metadata": {},
   "outputs": [],
   "source": [
    "a='abc123'"
   ]
  },
  {
   "cell_type": "code",
   "execution_count": 16,
   "id": "sporting-memorial",
   "metadata": {},
   "outputs": [],
   "source": [
    "match = re.match(r\"abc\",a)"
   ]
  },
  {
   "cell_type": "code",
   "execution_count": 17,
   "id": "immediate-vinyl",
   "metadata": {},
   "outputs": [
    {
     "name": "stdout",
     "output_type": "stream",
     "text": [
      "<re.Match object; span=(0, 3), match='abc'>\n"
     ]
    }
   ],
   "source": [
    "print(match)"
   ]
  },
  {
   "cell_type": "markdown",
   "id": "further-cologne",
   "metadata": {},
   "source": [
    "### search()"
   ]
  },
  {
   "cell_type": "code",
   "execution_count": 18,
   "id": "streaming-pharmacology",
   "metadata": {},
   "outputs": [],
   "source": [
    "match = re.search(r'abc',s) #returns the first matched object"
   ]
  },
  {
   "cell_type": "code",
   "execution_count": 19,
   "id": "medical-integration",
   "metadata": {},
   "outputs": [
    {
     "name": "stdout",
     "output_type": "stream",
     "text": [
      "<re.Match object; span=(4, 7), match='abc'>\n"
     ]
    }
   ],
   "source": [
    "print(match)"
   ]
  },
  {
   "cell_type": "markdown",
   "id": "another-pursuit",
   "metadata": {},
   "source": [
    "### group , span , start ,end"
   ]
  },
  {
   "cell_type": "code",
   "execution_count": 82,
   "id": "molecular-acrobat",
   "metadata": {},
   "outputs": [],
   "source": [
    "test_string = '123abc456ABCabc.abc'"
   ]
  },
  {
   "cell_type": "code",
   "execution_count": 21,
   "id": "entitled-twist",
   "metadata": {},
   "outputs": [],
   "source": [
    "pattern = re.compile(r\"abc\")"
   ]
  },
  {
   "cell_type": "code",
   "execution_count": 22,
   "id": "structured-nicaragua",
   "metadata": {},
   "outputs": [],
   "source": [
    "matches = pattern.finditer(test_string)"
   ]
  },
  {
   "cell_type": "code",
   "execution_count": 23,
   "id": "thousand-assignment",
   "metadata": {},
   "outputs": [
    {
     "name": "stdout",
     "output_type": "stream",
     "text": [
      "(3, 6) 3 6\n",
      "(12, 15) 12 15\n"
     ]
    }
   ],
   "source": [
    "for match in matches:\n",
    "    print(match.span() , match.start(), match.end())"
   ]
  },
  {
   "cell_type": "markdown",
   "id": "standing-traffic",
   "metadata": {},
   "source": [
    "#### group() returns string of an object"
   ]
  },
  {
   "cell_type": "markdown",
   "id": "unavailable-operations",
   "metadata": {},
   "source": [
    "### Meta characters : . ^ $ * + ? { } [] \\ | ()"
   ]
  },
  {
   "cell_type": "code",
   "execution_count": 69,
   "id": "boolean-glory",
   "metadata": {},
   "outputs": [],
   "source": [
    "pattern = re.compile(r'.') #returns all the object except new line"
   ]
  },
  {
   "cell_type": "code",
   "execution_count": 70,
   "id": "suspended-health",
   "metadata": {},
   "outputs": [],
   "source": [
    "p=re.compile(r'\\.')# \\ is an escape character . This will only look for '.' character"
   ]
  },
  {
   "cell_type": "code",
   "execution_count": 79,
   "id": "mediterranean-protest",
   "metadata": {},
   "outputs": [],
   "source": [
    "p=re.compile(r'^123') #retruns 123 string from the start of the string"
   ]
  },
  {
   "cell_type": "code",
   "execution_count": 85,
   "id": "realistic-space",
   "metadata": {},
   "outputs": [],
   "source": [
    "p=re.compile(r'abc$') #returns abc from the end of the string"
   ]
  },
  {
   "cell_type": "code",
   "execution_count": 86,
   "id": "eleven-aerospace",
   "metadata": {},
   "outputs": [],
   "source": [
    "matches = p.finditer(test_string)"
   ]
  },
  {
   "cell_type": "code",
   "execution_count": 87,
   "id": "noble-basics",
   "metadata": {},
   "outputs": [
    {
     "name": "stdout",
     "output_type": "stream",
     "text": [
      "<re.Match object; span=(16, 19), match='abc'>\n"
     ]
    }
   ],
   "source": [
    "for match in matches:\n",
    "    print(match)"
   ]
  },
  {
   "cell_type": "code",
   "execution_count": 74,
   "id": "polish-large",
   "metadata": {},
   "outputs": [],
   "source": [
    "matches = pattern.finditer(test_string)"
   ]
  },
  {
   "cell_type": "code",
   "execution_count": 75,
   "id": "studied-engineering",
   "metadata": {},
   "outputs": [
    {
     "name": "stdout",
     "output_type": "stream",
     "text": [
      "<re.Match object; span=(0, 1), match='1'>\n",
      "<re.Match object; span=(1, 2), match='2'>\n",
      "<re.Match object; span=(2, 3), match='3'>\n",
      "<re.Match object; span=(3, 4), match='a'>\n",
      "<re.Match object; span=(4, 5), match='b'>\n",
      "<re.Match object; span=(5, 6), match='c'>\n",
      "<re.Match object; span=(6, 7), match='4'>\n",
      "<re.Match object; span=(7, 8), match='5'>\n",
      "<re.Match object; span=(8, 9), match='6'>\n",
      "<re.Match object; span=(9, 10), match='A'>\n",
      "<re.Match object; span=(10, 11), match='B'>\n",
      "<re.Match object; span=(11, 12), match='C'>\n",
      "<re.Match object; span=(12, 13), match='a'>\n",
      "<re.Match object; span=(13, 14), match='b'>\n",
      "<re.Match object; span=(14, 15), match='c'>\n",
      "<re.Match object; span=(15, 16), match='.'>\n",
      "<re.Match object; span=(16, 17), match=' '>\n",
      "<re.Match object; span=(17, 18), match='a'>\n",
      "<re.Match object; span=(18, 19), match='b'>\n",
      "<re.Match object; span=(19, 20), match='c'>\n",
      "<re.Match object; span=(20, 21), match='d'>\n",
      "<re.Match object; span=(21, 22), match='e'>\n",
      "<re.Match object; span=(22, 23), match='f'>\n"
     ]
    }
   ],
   "source": [
    "for match in matches:\n",
    "    print(match)"
   ]
  },
  {
   "cell_type": "markdown",
   "id": "acquired-montreal",
   "metadata": {},
   "source": [
    "### Special charactes : \\d \\D \\s \\S \\w \\W \\b \\B"
   ]
  },
  {
   "cell_type": "markdown",
   "id": "vietnamese-center",
   "metadata": {},
   "source": [
    "d = decimal digits \n",
    "\n",
    "s = whitespace character\n",
    "\n",
    "w = alphanumeric character\n",
    "\n",
    "b = specified character at the beginning  of a word\n",
    "\n",
    "D S W B  are opposite of d s w and b respectively."
   ]
  },
  {
   "cell_type": "code",
   "execution_count": 96,
   "id": "bottom-cricket",
   "metadata": {},
   "outputs": [],
   "source": [
    "test = 'hey 123 ho heyho hohey'"
   ]
  },
  {
   "cell_type": "code",
   "execution_count": 89,
   "id": "postal-heaven",
   "metadata": {},
   "outputs": [],
   "source": [
    "pattern = re.compile(r'\\d') # look for decimal degits"
   ]
  },
  {
   "cell_type": "code",
   "execution_count": 90,
   "id": "above-garage",
   "metadata": {},
   "outputs": [],
   "source": [
    "matches = pattern.finditer(test)"
   ]
  },
  {
   "cell_type": "code",
   "execution_count": 91,
   "id": "opposed-attitude",
   "metadata": {},
   "outputs": [
    {
     "name": "stdout",
     "output_type": "stream",
     "text": [
      "<re.Match object; span=(4, 5), match='1'>\n",
      "<re.Match object; span=(5, 6), match='2'>\n",
      "<re.Match object; span=(6, 7), match='3'>\n"
     ]
    }
   ],
   "source": [
    "for match in matches:\n",
    "    print(match)"
   ]
  },
  {
   "cell_type": "code",
   "execution_count": 93,
   "id": "fitting-logging",
   "metadata": {},
   "outputs": [
    {
     "name": "stdout",
     "output_type": "stream",
     "text": [
      "<re.Match object; span=(0, 1), match='h'>\n",
      "<re.Match object; span=(1, 2), match='e'>\n",
      "<re.Match object; span=(2, 3), match='y'>\n",
      "<re.Match object; span=(3, 4), match=' '>\n",
      "<re.Match object; span=(7, 8), match=' '>\n",
      "<re.Match object; span=(8, 9), match='h'>\n",
      "<re.Match object; span=(9, 10), match='o'>\n",
      "<re.Match object; span=(10, 11), match=' '>\n",
      "<re.Match object; span=(11, 12), match='h'>\n",
      "<re.Match object; span=(12, 13), match='e'>\n",
      "<re.Match object; span=(13, 14), match='y'>\n",
      "<re.Match object; span=(14, 15), match='h'>\n",
      "<re.Match object; span=(15, 16), match='o'>\n"
     ]
    }
   ],
   "source": [
    "pattern =re.compile(r'\\D')\n",
    "matches=pattern.finditer(test)\n",
    "for match in matches:\n",
    "    print(match)"
   ]
  },
  {
   "cell_type": "code",
   "execution_count": 97,
   "id": "israeli-workplace",
   "metadata": {},
   "outputs": [
    {
     "name": "stdout",
     "output_type": "stream",
     "text": [
      "<re.Match object; span=(0, 3), match='hey'>\n",
      "<re.Match object; span=(11, 14), match='hey'>\n"
     ]
    }
   ],
   "source": [
    "pattern =re.compile(r'\\bhey') #beginnig doesn't necessarily has to be at the start. It can be any block of letters after a white space\n",
    "matches=pattern.finditer(test)\n",
    "for match in matches:\n",
    "    print(match)"
   ]
  },
  {
   "cell_type": "code",
   "execution_count": 98,
   "id": "reduced-instrumentation",
   "metadata": {},
   "outputs": [
    {
     "name": "stdout",
     "output_type": "stream",
     "text": [
      "<re.Match object; span=(19, 22), match='hey'>\n"
     ]
    }
   ],
   "source": [
    "pattern =re.compile(r'\\Bhey')\n",
    "matches=pattern.finditer(test)\n",
    "for match in matches:\n",
    "    print(match)"
   ]
  },
  {
   "cell_type": "markdown",
   "id": "three-morgan",
   "metadata": {},
   "source": [
    "### Quantifiers"
   ]
  },
  {
   "cell_type": "markdown",
   "id": "incorporate-specialist",
   "metadata": {},
   "source": [
    "'*' = 0 or more\n",
    "\n",
    "'+' = 1 or more\n",
    "\n",
    "? = 0 or 1 --> optional character\n",
    "\n",
    "{4} = exact number\n",
    "\n",
    "{4,6} = range numbers"
   ]
  },
  {
   "cell_type": "code",
   "execution_count": 131,
   "id": "capable-distributor",
   "metadata": {},
   "outputs": [],
   "source": [
    "dates = \"\"\"\n",
    "2020-04-20 \n",
    "2020-01-10 \n",
    "2020-11-23\n",
    "2020-10-30\n",
    "2019-05-02 \n",
    "2019/03/04\n",
    "2010_01_02\n",
    "2020.09.20\n",
    "1/20/2018 \n",
    "\"\"\" "
   ]
  },
  {
   "cell_type": "code",
   "execution_count": 117,
   "id": "usual-access",
   "metadata": {},
   "outputs": [],
   "source": [
    "pat = re.compile(r'\\d\\d\\d\\d.\\d\\d.\\d\\d') #only selects dates with this format (. means any characters between year,month, and day)\n",
    "matches = pat.finditer(dates)"
   ]
  },
  {
   "cell_type": "code",
   "execution_count": 115,
   "id": "therapeutic-barrier",
   "metadata": {},
   "outputs": [
    {
     "name": "stdout",
     "output_type": "stream",
     "text": [
      "<re.Match object; span=(1, 11), match='2020-04-20'>\n",
      "<re.Match object; span=(13, 23), match='2020-01-10'>\n",
      "<re.Match object; span=(25, 35), match='2020-11-23'>\n",
      "<re.Match object; span=(36, 46), match='2020-10-30'>\n",
      "<re.Match object; span=(47, 57), match='2019-05-02'>\n",
      "<re.Match object; span=(59, 69), match='2019/01/04'>\n",
      "<re.Match object; span=(70, 80), match='2010_01_02'>\n",
      "<re.Match object; span=(81, 91), match='2020.09.20'>\n"
     ]
    }
   ],
   "source": [
    "for match in matches:\n",
    "    print(match)"
   ]
  },
  {
   "cell_type": "code",
   "execution_count": 118,
   "id": "bearing-laundry",
   "metadata": {},
   "outputs": [],
   "source": [
    "pat = re.compile(r'\\d\\d\\d\\d-\\d\\d-\\d\\d') #only selects dates with this format (- means date with - between year,month, and day)\n",
    "matches = pat.finditer(dates)"
   ]
  },
  {
   "cell_type": "code",
   "execution_count": 119,
   "id": "taken-construction",
   "metadata": {},
   "outputs": [
    {
     "name": "stdout",
     "output_type": "stream",
     "text": [
      "<re.Match object; span=(1, 11), match='2020-04-20'>\n",
      "<re.Match object; span=(13, 23), match='2020-01-10'>\n",
      "<re.Match object; span=(25, 35), match='2020-11-23'>\n",
      "<re.Match object; span=(36, 46), match='2020-10-30'>\n",
      "<re.Match object; span=(47, 57), match='2019-05-02'>\n"
     ]
    }
   ],
   "source": [
    "for match in matches:\n",
    "    print(match)"
   ]
  },
  {
   "cell_type": "markdown",
   "id": "helpful-juice",
   "metadata": {},
   "source": [
    "Since we can have a lot of seperators , we can use set [ ] to specify multiple possible separators . [. / - _]"
   ]
  },
  {
   "cell_type": "code",
   "execution_count": 120,
   "id": "technological-bumper",
   "metadata": {},
   "outputs": [],
   "source": [
    "pat=re.compile(r'\\d\\d\\d\\d[-/._]\\d\\d[-/._]\\d\\d')\n",
    "matches = pat.finditer(dates)"
   ]
  },
  {
   "cell_type": "code",
   "execution_count": 121,
   "id": "documented-commissioner",
   "metadata": {},
   "outputs": [
    {
     "name": "stdout",
     "output_type": "stream",
     "text": [
      "<re.Match object; span=(1, 11), match='2020-04-20'>\n",
      "<re.Match object; span=(13, 23), match='2020-01-10'>\n",
      "<re.Match object; span=(25, 35), match='2020-11-23'>\n",
      "<re.Match object; span=(36, 46), match='2020-10-30'>\n",
      "<re.Match object; span=(47, 57), match='2019-05-02'>\n",
      "<re.Match object; span=(59, 69), match='2019/01/04'>\n",
      "<re.Match object; span=(70, 80), match='2010_01_02'>\n",
      "<re.Match object; span=(81, 91), match='2020.09.20'>\n"
     ]
    }
   ],
   "source": [
    "for match in matches:\n",
    "    print(match)"
   ]
  },
  {
   "cell_type": "code",
   "execution_count": 129,
   "id": "about-lightning",
   "metadata": {},
   "outputs": [],
   "source": [
    "pat=re.compile(r'\\d\\d\\d\\d[-/._]0[45][-/._]\\d\\d') #if we only need 4th and 5th month\n",
    "matches = pat.finditer(dates)"
   ]
  },
  {
   "cell_type": "code",
   "execution_count": 130,
   "id": "social-paintball",
   "metadata": {},
   "outputs": [
    {
     "name": "stdout",
     "output_type": "stream",
     "text": [
      "<re.Match object; span=(1, 11), match='2020-04-20'>\n",
      "<re.Match object; span=(47, 57), match='2019-05-02'>\n"
     ]
    }
   ],
   "source": [
    "for match in matches :\n",
    "    print(match)"
   ]
  },
  {
   "cell_type": "markdown",
   "id": "developmental-berry",
   "metadata": {},
   "source": [
    "using quantifiers"
   ]
  },
  {
   "cell_type": "code",
   "execution_count": 126,
   "id": "average-modeling",
   "metadata": {},
   "outputs": [],
   "source": [
    "pat=re.compile(r'\\d{4}[-/._]\\d{2}[-/._]\\d{2}')# \\d{4} means we want 4 \\d i.e. \\d\\d\\d\\d \n",
    "matches = pat.finditer(dates)"
   ]
  },
  {
   "cell_type": "code",
   "execution_count": 127,
   "id": "neural-emerald",
   "metadata": {},
   "outputs": [
    {
     "name": "stdout",
     "output_type": "stream",
     "text": [
      "<re.Match object; span=(1, 11), match='2020-04-20'>\n",
      "<re.Match object; span=(13, 23), match='2020-01-10'>\n",
      "<re.Match object; span=(25, 35), match='2020-11-23'>\n",
      "<re.Match object; span=(36, 46), match='2020-10-30'>\n",
      "<re.Match object; span=(47, 57), match='2019-05-02'>\n",
      "<re.Match object; span=(59, 69), match='2019/01/04'>\n",
      "<re.Match object; span=(70, 80), match='2010_01_02'>\n",
      "<re.Match object; span=(81, 91), match='2020.09.20'>\n"
     ]
    }
   ],
   "source": [
    "for match in matches:\n",
    "    print(match)"
   ]
  },
  {
   "cell_type": "markdown",
   "id": "surgical-average",
   "metadata": {},
   "source": [
    "### Using conditions"
   ]
  },
  {
   "cell_type": "code",
   "execution_count": 160,
   "id": "simplified-substance",
   "metadata": {},
   "outputs": [],
   "source": [
    "string = '''\n",
    "1234\n",
    "abcde\n",
    "2020-10-20\n",
    "Mr Simpson\n",
    "Mrs Simpson\n",
    "Mr. Brown\n",
    "Ms Parajuli\n",
    "pal-lu@gmail.com\n",
    "Sdkfjs@gmail.de\n",
    "beast_master123@my_domain.org\n",
    "'''"
   ]
  },
  {
   "cell_type": "code",
   "execution_count": 144,
   "id": "upper-stock",
   "metadata": {},
   "outputs": [],
   "source": [
    "p=re.compile(r'(Mr|Mrs|Ms)\\.?\\s\\w+')# (mr|mrs) means mr or mrs .  \\.? means having '.' or not\n",
    "matches = p.finditer(string)"
   ]
  },
  {
   "cell_type": "code",
   "execution_count": 145,
   "id": "exciting-contributor",
   "metadata": {},
   "outputs": [
    {
     "name": "stdout",
     "output_type": "stream",
     "text": [
      "<re.Match object; span=(23, 33), match='Mr Simpson'>\n",
      "<re.Match object; span=(34, 45), match='Mrs Simpson'>\n",
      "<re.Match object; span=(46, 55), match='Mr. Brown'>\n",
      "<re.Match object; span=(56, 67), match='Ms Parajuli'>\n"
     ]
    }
   ],
   "source": [
    "for match in matches:\n",
    "    print(match)"
   ]
  },
  {
   "cell_type": "code",
   "execution_count": 164,
   "id": "alone-active",
   "metadata": {},
   "outputs": [
    {
     "data": {
      "text/plain": [
       "'\\n #[]+ means one or more characters mentioned inside [] \\n () is used to make group.\\n In the above pattern , we have created 3 groups with index 0,1,and 2\\n'"
      ]
     },
     "execution_count": 164,
     "metadata": {},
     "output_type": "execute_result"
    }
   ],
   "source": [
    "epattern = re.compile(r'([a-zA-Z0-9-_]+)@([a-zA-Z_]+)\\.([a-zA-Z]+)')\n",
    "'''\n",
    " #[]+ means one or more characters mentioned inside [] \n",
    " () is used to make group.\n",
    " In the above pattern , we have created 3 groups with index 0,1,and 2\n",
    "'''"
   ]
  },
  {
   "cell_type": "code",
   "execution_count": 165,
   "id": "molecular-adams",
   "metadata": {},
   "outputs": [],
   "source": [
    "matches = epattern.finditer(string)"
   ]
  },
  {
   "cell_type": "code",
   "execution_count": 169,
   "id": "virgin-vertical",
   "metadata": {},
   "outputs": [],
   "source": [
    "for match in matches:\n",
    "    print(match.group())"
   ]
  },
  {
   "cell_type": "markdown",
   "id": "chubby-temple",
   "metadata": {},
   "source": [
    "### split and sub"
   ]
  },
  {
   "cell_type": "code",
   "execution_count": 170,
   "id": "scientific-spending",
   "metadata": {},
   "outputs": [],
   "source": [
    "s = 'abc123def123ghij123456'"
   ]
  },
  {
   "cell_type": "code",
   "execution_count": 171,
   "id": "exposed-southeast",
   "metadata": {},
   "outputs": [],
   "source": [
    "pattern = re.compile(r'123') "
   ]
  },
  {
   "cell_type": "code",
   "execution_count": 174,
   "id": "appointed-pittsburgh",
   "metadata": {},
   "outputs": [],
   "source": [
    "split = pattern.split(s) #splits the string whenever it finds 123 and returns as a list of splitted strings"
   ]
  },
  {
   "cell_type": "code",
   "execution_count": 175,
   "id": "abroad-single",
   "metadata": {},
   "outputs": [
    {
     "data": {
      "text/plain": [
       "['abc', 'def', 'ghij', '456']"
      ]
     },
     "execution_count": 175,
     "metadata": {},
     "output_type": "execute_result"
    }
   ],
   "source": [
    "split"
   ]
  },
  {
   "cell_type": "code",
   "execution_count": 176,
   "id": "distant-quarterly",
   "metadata": {},
   "outputs": [],
   "source": [
    "st='hello world, you are the best world'"
   ]
  },
  {
   "cell_type": "code",
   "execution_count": 177,
   "id": "certified-monaco",
   "metadata": {},
   "outputs": [],
   "source": [
    "pattern = re.compile(r\"world\")"
   ]
  },
  {
   "cell_type": "code",
   "execution_count": 178,
   "id": "south-adrian",
   "metadata": {},
   "outputs": [],
   "source": [
    "subbed_string = pattern.sub('planet',st) #finds the substring world and replaces it with planet"
   ]
  },
  {
   "cell_type": "code",
   "execution_count": 179,
   "id": "musical-phenomenon",
   "metadata": {},
   "outputs": [
    {
     "data": {
      "text/plain": [
       "'hello planet, you are the best planet'"
      ]
     },
     "execution_count": 179,
     "metadata": {},
     "output_type": "execute_result"
    }
   ],
   "source": [
    "subbed_string"
   ]
  }
 ],
 "metadata": {
  "kernelspec": {
   "display_name": "Python 3",
   "language": "python",
   "name": "python3"
  },
  "language_info": {
   "codemirror_mode": {
    "name": "ipython",
    "version": 3
   },
   "file_extension": ".py",
   "mimetype": "text/x-python",
   "name": "python",
   "nbconvert_exporter": "python",
   "pygments_lexer": "ipython3",
   "version": "3.9.1"
  }
 },
 "nbformat": 4,
 "nbformat_minor": 5
}
